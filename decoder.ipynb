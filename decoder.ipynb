{
 "cells": [
  {
   "cell_type": "code",
   "execution_count": 109,
   "id": "5c2ae752-6348-4258-b96f-cc066eeac069",
   "metadata": {},
   "outputs": [],
   "source": [
    "def splitElements(string):\n",
    "    return string.split()"
   ]
  },
  {
   "cell_type": "code",
   "execution_count": 110,
   "id": "0fab950f-c79e-4b8a-8f7a-ecc2aebf9315",
   "metadata": {},
   "outputs": [],
   "source": [
    "def createDict(text):\n",
    "    dict = {\n",
    "        0: 'none'\n",
    "    }\n",
    "    for line in text:\n",
    "        numStr, word = splitElements(line)\n",
    "        dict[int(numStr)] = word\n",
    "    return dict"
   ]
  },
  {
   "cell_type": "code",
   "execution_count": 111,
   "id": "cd533cb0-9c27-4434-862c-eb8e7972aa3f",
   "metadata": {},
   "outputs": [],
   "source": [
    "def getDecodedNumberList(list):\n",
    "    numList = [1]\n",
    "    for i in range(2,len(list)+1):\n",
    "        number = numList[i-2] + i\n",
    "        if number > len(list): break\n",
    "        numList.append(number)\n",
    "    return numList"
   ]
  },
  {
   "cell_type": "code",
   "execution_count": 112,
   "id": "d3d0f22c-62af-4442-a023-ff34715bf7aa",
   "metadata": {},
   "outputs": [],
   "source": [
    "def isSelectedWord(refNum, numStr):\n",
    "    srcNum = int(numStr)\n",
    "    return srcNum == refNum"
   ]
  },
  {
   "cell_type": "code",
   "execution_count": 113,
   "id": "63baa262-74d2-4c00-8085-40555d306164",
   "metadata": {},
   "outputs": [],
   "source": [
    "def joinWords(dict, refNumList):\n",
    "    message = ''\n",
    "    for i in refNumList:\n",
    "        message += dict[i] + ' '\n",
    "    return message[:len(message)-1]"
   ]
  },
  {
   "cell_type": "code",
   "execution_count": 114,
   "id": "5fb4fd7a-0e0f-427f-8a3b-2d3b9df738e4",
   "metadata": {},
   "outputs": [],
   "source": [
    "def decodeMessage(text):\n",
    "    refNumList = getDecodedNumberList(text)\n",
    "    dict = createDict(text)\n",
    "    return joinWords(dict, refNumList)"
   ]
  },
  {
   "cell_type": "code",
   "execution_count": 115,
   "id": "273625fe-d7bc-40f9-ac3b-5d6b856ae6eb",
   "metadata": {
    "scrolled": true
   },
   "outputs": [],
   "source": [
    "def main():\n",
    "    with open(\"encoded_message.txt\") as file:\n",
    "        txtLines = file.readlines()\n",
    "    print(decodeMessage(txtLines))"
   ]
  },
  {
   "cell_type": "code",
   "execution_count": 116,
   "id": "1fcab341-46ad-4134-acbe-10833b1ff024",
   "metadata": {},
   "outputs": [
    {
     "name": "stdout",
     "output_type": "stream",
     "text": [
      "opposite sun rain think ocean to winter wild it ready buy card possible would electric stay post paragraph produce state our compare touch possible\n"
     ]
    }
   ],
   "source": [
    "if __name__ == '__main__':\n",
    "    main()"
   ]
  },
  {
   "cell_type": "code",
   "execution_count": null,
   "id": "e9401082-0780-4d94-bb38-3c1ba0488543",
   "metadata": {},
   "outputs": [],
   "source": []
  }
 ],
 "metadata": {
  "kernelspec": {
   "display_name": "Python 3 (ipykernel)",
   "language": "python",
   "name": "python3"
  },
  "language_info": {
   "codemirror_mode": {
    "name": "ipython",
    "version": 3
   },
   "file_extension": ".py",
   "mimetype": "text/x-python",
   "name": "python",
   "nbconvert_exporter": "python",
   "pygments_lexer": "ipython3",
   "version": "3.8.10"
  }
 },
 "nbformat": 4,
 "nbformat_minor": 5
}
